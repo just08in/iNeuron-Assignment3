{
 "cells": [
  {
   "cell_type": "code",
   "execution_count": 15,
   "metadata": {},
   "outputs": [
    {
     "name": "stdout",
     "output_type": "stream",
     "text": [
      "Provide the numerator5\n",
      "Provide the Denominator0\n",
      "Error: The denominator is 0, it is not allowed\n"
     ]
    }
   ],
   "source": [
    "#Task1 - 1\n",
    "def DivNum(a,b):    \n",
    "    return (a/b)\n",
    "\n",
    "try:\n",
    "    numerator = int(input(\"Provide the numerator\"))\n",
    "    denominator = int(input(\"Provide the Denominator\"))\n",
    "    u=DivNum(numerator,denominator)\n",
    "except ZeroDivisionError:\n",
    "    print(\"Error: The denominator is 0, it is not allowed\")\n",
    "else:\n",
    "    print(\"It is success, %f\" %u)"
   ]
  },
  {
   "cell_type": "code",
   "execution_count": 18,
   "metadata": {},
   "outputs": [
    {
     "name": "stdout",
     "output_type": "stream",
     "text": [
      "Americans  play Baseball\n",
      "Americans  play Cricket\n",
      "Americans  watch Baseball\n",
      "Americans  watch Cricket\n",
      "Indians play Baseball\n",
      "Indians play Cricket\n",
      "Indians watch Baseball\n",
      "Indians watch Cricket\n"
     ]
    }
   ],
   "source": [
    "#Task1 - 2\n",
    "subjects=[\"Americans \",\"Indians\"]\n",
    "verbs=[\"play\",\"watch\"]\n",
    "objects=[\"Baseball\",\"Cricket\"]\n",
    "for i in subjects:\n",
    "    for j in verbs:\n",
    "        for k in objects:\n",
    "            print(i+\" \"+j+\" \"+k)"
   ]
  },
  {
   "cell_type": "code",
   "execution_count": 58,
   "metadata": {},
   "outputs": [],
   "source": [
    "#Task2\n",
    "def Vandermonde(l,n,p):\n",
    "    n=n-1\n",
    "    for i in l:\n",
    "        first=i[0]\n",
    "        if p==True:\n",
    "            i[0]=1\n",
    "        else:\n",
    "            i[0]=first**(n-1)\n",
    "        for k in range(n):\n",
    "            if p==True:\n",
    "                i.append(first**(k+1))\n",
    "            else:\n",
    "                i.append(first**(n-k-2))\n",
    "    return l\n"
   ]
  },
  {
   "cell_type": "code",
   "execution_count": 60,
   "metadata": {},
   "outputs": [
    {
     "data": {
      "text/plain": [
       "[[8, 4, 2, 1, 0.5], [27, 9, 3, 1, 0.3333333333333333], [64, 16, 4, 1, 0.25]]"
      ]
     },
     "execution_count": 60,
     "metadata": {},
     "output_type": "execute_result"
    }
   ],
   "source": [
    "alex_list1=[[2],[3],[4]]\n",
    "Vandermonde(alex_list1,5,False)"
   ]
  },
  {
   "cell_type": "code",
   "execution_count": 61,
   "metadata": {},
   "outputs": [
    {
     "data": {
      "text/plain": [
       "[[1, 2, 4, 8, 16], [1, 3, 9, 27, 81], [1, 4, 16, 64, 256]]"
      ]
     },
     "execution_count": 61,
     "metadata": {},
     "output_type": "execute_result"
    }
   ],
   "source": [
    "alex_list2=[[2],[3],[4]]\n",
    "Vandermonde(alex_list2,5,True)"
   ]
  },
  {
   "cell_type": "code",
   "execution_count": null,
   "metadata": {},
   "outputs": [],
   "source": []
  }
 ],
 "metadata": {
  "kernelspec": {
   "display_name": "Python 3",
   "language": "python",
   "name": "python3"
  },
  "language_info": {
   "codemirror_mode": {
    "name": "ipython",
    "version": 3
   },
   "file_extension": ".py",
   "mimetype": "text/x-python",
   "name": "python",
   "nbconvert_exporter": "python",
   "pygments_lexer": "ipython3",
   "version": "3.7.6"
  }
 },
 "nbformat": 4,
 "nbformat_minor": 4
}
